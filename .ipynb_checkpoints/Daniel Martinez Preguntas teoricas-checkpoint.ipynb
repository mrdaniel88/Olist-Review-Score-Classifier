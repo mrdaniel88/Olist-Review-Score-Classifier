{
 "cells": [
  {
   "cell_type": "markdown",
   "id": "corporate-cherry",
   "metadata": {},
   "source": [
    "### Daniel Martínez"
   ]
  },
  {
   "cell_type": "markdown",
   "id": "composite-celebrity",
   "metadata": {},
   "source": [
    "1. La ciencia de datos se encarga de capturar, mantener, procesar, analizar y comunicar los datos. Esto quiere decir, tener la habilidad de entenderlos, procesarlos, encontrar patrones y su significado, y posteriormente poder comunicarlos para tomar decisiones.\n",
    "\n",
    "El aprendizaje supervisado hace referencia a la construcción de modelos predictivos, ya sea de clasificación o de regresión, los cuales están basados en las relaciones entre los atributos en los conjuntos de datos. En el aprendizaje supervisado los atributos de salida, deben estar correctamente etiquetados, generalmente por un experto en el área, para poder construir modelos que puedan predecir o clasificar nuevos datos a partir de esas etiquetas previas ya existentes.\n",
    "\n",
    "El aprendizaje no supervisado construye modelos descriptivos, donde se puede agrupar, hacer análisis de asociación o reducción de la dimensionalidad, y están basados en las relaciones entre instancias. Es decir, a diferencia del aprendizaje supervisado, se podría decir que en el aprendizaje no supervisado se usan los datos para construir la salida del modelo, es decir, no necesariamente los datos deben estar etiquetados como en el aprendizaje supervisado."
   ]
  },
  {
   "cell_type": "markdown",
   "id": "utility-filling",
   "metadata": {},
   "source": [
    "2. El sesgo de selección ocurre cuando no se toma una muestra representativa de los datos o de la población que va a ser analizada. Es decir, cuando no hay aleatoriedad suficiente en la recolección de los datos a analizar. Existen sesgos en el muestreo, intervalos de tiempo, en la selección de los datos o la pérdida de datos."
   ]
  },
  {
   "cell_type": "markdown",
   "id": "resident-private",
   "metadata": {},
   "source": [
    "4. La matriz de confusión se utiliza en los modelos de clasificación. Esta matriz permite conocer el rendimiento de un algoritmo de claseficiación sobre cada una de las clases. De esta forma, se puede saber cuándos Verdaderos Positivos, Verdaderos Negativos, Falsos Positivos y Falsos Negativos logró clasificar el modelo, teniendo en cuenta el Recall que es una medida de completitud indica cuántos ejemplos de la clase positiva fueron clasificados correctamente, y la Precisión que es una medida de exactitud que indica, de los ejemplos clasificados como positivos, cuántos fueron clasificados correctamente."
   ]
  },
  {
   "cell_type": "markdown",
   "id": "protecting-happening",
   "metadata": {},
   "source": [
    "29. La limpieza de datos es la parte más importante del análisis. Dependiendo del problema que se quiera resolver, primero se deben preparar los datos, transformarlos si es necesario (Imágenes, sonidos, etc) y posteriormente limpiarlos. La limpieza es importante porque pueden existir datos inexistentes o datos \"basura\" que no aporten nada al análisis y por el contrario pueden generar predicciones erróneas dentro del modelo que se quiera implementar."
   ]
  },
  {
   "cell_type": "markdown",
   "id": "constitutional-burton",
   "metadata": {},
   "source": [
    "38. La diferencia entre el conjunto de entrenamiento y el conjunto de pruebas consiste en que el conjunto de datos total se debe separar en dos grupos. Generalmente para hacer esta separación de los datos, se puede establecer que los datos con los que se va a probar el modelo corresponda al 20% del total de los datos. De esta forma, el conjunto de entrenamiento sirve para que el modelo encuentre esas relaciones entre los atributos del conjunto de datos y posteriormente se evalúa la predicción con el conjuntro de pruebas y pdoer medir la exactitud del modelo."
   ]
  },
  {
   "cell_type": "markdown",
   "id": "european-andrews",
   "metadata": {},
   "source": [
    "39. La validación cruzada consiste en dividir el conjunto de datos en grupos iguales, por ejemplo k=10, y se entrena el modelo en los k-1 grupos o \"folds\". Luego se evalúa con los datos que quedan por fuera del grupo que se esté evaluando en ese momento, y se repite el proceso k veces. Así, la validación cruzada sirve para medir el rendimiento de un modelo, evaluandolo múltiples veces usando un mismo método. Este también sirve para probar el ajuste de los distintos hiperparámetros que un modelo ofrece."
   ]
  },
  {
   "cell_type": "markdown",
   "id": "amino-shock",
   "metadata": {},
   "source": [
    "40. El Aprendizaje Automático es una sub-área de la inteligencia artificial. De esta forma, toma grandes volúmenes de datos con el fin de estudiar y análizar un problema específico, y por medio de algoritmos predictivos, de clasificación, agrupación, etc., se puedan evaluar y análizar estos datos con el fin de dar solución al problema que se evaluó inicialmente."
   ]
  },
  {
   "cell_type": "markdown",
   "id": "possible-venezuela",
   "metadata": {},
   "source": [
    "41. El aprendizaje supervisado hace referencia a la construcción de modelos predictivos, ya sea de clasificación o de regresión, los cuales están basados en las relaciones entre los atributos en los conjuntos de datos. En el aprendizaje supervisado los atributos de salida, deben estar correctamente etiquetados, generalmente por un experto en el área, para poder construir modelos que puedan predecir o clasificar nuevos datos a partir de esas etiquetas previas ya existentes."
   ]
  },
  {
   "cell_type": "markdown",
   "id": "induced-crime",
   "metadata": {},
   "source": [
    "42. El aprendizaje no supervisado construye modelos descriptivos, donde se puede agrupar, hacer análisis de asociación o reducción de la dimensionalidad, y están basados en las relaciones entre instancias. Es decir, a diferencia del aprendizaje supervisado, se podría decir que en el aprendizaje no supervisado se usan los datos para construir la salida del modelo, es decir, no necesariamente los datos deben estar etiquetados como en el aprendizaje supervisado."
   ]
  },
  {
   "cell_type": "markdown",
   "id": "joined-captain",
   "metadata": {},
   "source": [
    "43. Regresión Logística, Naive Bayes, Árboles de Decisión, KNN K-Nearest Neighbor, SMV Support Vector Machine, Random Forest, Decenso por el gradiente."
   ]
  },
  {
   "cell_type": "markdown",
   "id": "incident-organ",
   "metadata": {},
   "source": [
    "44. Naive Bayes es un algoritmo de clasificación estadístico basado en el teorema de Bayes. El algoritmo intenta predecir la posibilidad de pertenencia a una clase para determinada instancia."
   ]
  },
  {
   "cell_type": "markdown",
   "id": "greek-husband",
   "metadata": {},
   "source": [
    "45. El algoritmo SMV pretende resolver problemas de clasificación. Es decir, problemas donde existen muchas posibles soluciones. Así, mientras mayor sea el margen de separación entre los atributos, mejor es la capacidad de generalización del modelo. De esta forma, durante el entrenamiento, se busca un margen máximo de separación entre las clases, a esto se le conoce como hiperplano óptimo, el cual hace referencia al espacio de hipótesis de estas máquinas. El algoritmo maneja un hiperparámetro C definido por el usuario el cual determina el balance entre maximizar el margen y minimizar el error.\n",
    "Cuando el problema no es linealmente separable, se proyectan los vectores en un espacio de características utilizando un conjunto de funciones no lineales. Así, el espacio de entrada del hiperplano corresponderá con una función no lineal."
   ]
  },
  {
   "cell_type": "markdown",
   "id": "major-roller",
   "metadata": {},
   "source": [
    "46. Los vectores de soporte en SMV se encuentran en el margen de la decisión. Es decir, la hipótesis generada por la máquina se representa sobre la base de aquellos puntos del espacio de entrada más cercanos al límite de decisión. Y por lo tanto son los más difíciles de clasificar. Aquellos datos que no son vectores de soporte no influyen en la posición y orientación de la función de decisión y por lo tanto no contribuyen con la hipótesis."
   ]
  },
  {
   "cell_type": "markdown",
   "id": "delayed-basics",
   "metadata": {},
   "source": [
    "47. Núcleo RBF, Núcleo polinomial, Núcleo sigmoidal."
   ]
  },
  {
   "cell_type": "markdown",
   "id": "freelance-young",
   "metadata": {},
   "source": [
    "48. Entrada: Un conjunto de datos D. \n",
    "Procedimiento: Si las instancias de D son de la clase Y, entonces T es un nodo hoja etiquetado con la clase Y\n",
    "               Si D es un conjunto vacío entonces T es un nodo hoja etiquedao con la clase por defecto Y\n",
    "               Si D contiene instancias de mas de una clase\n",
    "                  Se utiliza un test de atributo para dividir los datos en conjuntos más pequeños\n",
    "                  Se crea un nodo hijo por cada resultado del test\n",
    "                  Se distribuyen las instancias a los nodos hijos según el resultado del test.\n",
    "                  Se aplica recursivamente el Procedimiento a cada nodo hijo.\n",
    " Salida: Árbol de clasificación"
   ]
  },
  {
   "cell_type": "markdown",
   "id": "least-kenya",
   "metadata": {},
   "source": [
    "49. La entropía y la ganancia de información son medidas de impureza que permite medir el sesgo de la distribución de las instancias en las clases"
   ]
  },
  {
   "cell_type": "markdown",
   "id": "activated-nicaragua",
   "metadata": {},
   "source": [
    "51. La regresión logística es un modelo que determina la probabilidad de pertenencia a una clase a partir de un modelo lineal. Sirve para solucionar problemas de clasificación binaria"
   ]
  },
  {
   "cell_type": "markdown",
   "id": "aquatic-middle",
   "metadata": {},
   "source": [
    "52. La regresión lineal es un modelo que permite solucionar problemas de regresión o predicción, a diferencia de la regresión logística que permite solucionar problemas de clasificación."
   ]
  },
  {
   "cell_type": "markdown",
   "id": "quarterly-chaos",
   "metadata": {},
   "source": [
    "54. La regresión lineal no requiere de una función de activación, mientras que la regresión logística si. Los calores de salida de la regresión lineal pueden varioar de -infinito a infinito, mientras que la regresión logística entre 0 y 1. En la regresión lineal la variable dependiente debe ser continua, mientras que en la regresión logística la variable dependiente debe ser categórica."
   ]
  },
  {
   "cell_type": "markdown",
   "id": "affiliated-poker",
   "metadata": {},
   "source": [
    "61. Los Ensembles son clasificadores binarios en conjuntos multiclase. Así, se combina una serie de modelos para mejorar el rendimiento de la clasificación. Algunos ejemplos son Bagging, Random Forest, Boosting, Adaboost, Gradient Boosting."
   ]
  },
  {
   "cell_type": "markdown",
   "id": "chicken-luther",
   "metadata": {},
   "source": [
    "62-64. En Random Forest se utiliza un muestro de N datos a partir del conjunto de aprendizaje D. Adicionalmente se realiza una selección aleatoria de atributos, y estos atributos serán los candidatos a test de división en cada nodo del árbol. De esta forma, cada modelo se construye con un algoritmo de árbol de decisión y este algoritmo es el mismo para todos. Así, el algoritmo utliza un sistema de votación simple y se selecciona la clase que tenga mas votos. "
   ]
  },
  {
   "cell_type": "markdown",
   "id": "lined-accordance",
   "metadata": {},
   "source": [
    "69-70. Deep Learning hace referencia al uso de redes neuronales para solucionar problemas complejos en Machine Learning. Para esto, se utilizan modelos neuronales de varias capas, donde los datos de entrada se van procesando en cada capa, y luego se reconstruyen las las múltiples capas de salida. Generalmente estas redes neuronales mulicapas tienen la misma cantidad de capas de entrada y de salida."
   ]
  },
  {
   "cell_type": "markdown",
   "id": "hazardous-crown",
   "metadata": {},
   "source": [
    "71. Creo que el Deep Learning ha ayudado a solucionar problemas cotidianos de las personas. La razón por la que han ganado tanta popularidad es porque grandes empresas como Google, Facebook, etc. Las utilizan tanto para ayudar como para entrener, y luego los medios utilizan estos términos para explicar a grandes rasgos las innovaciones de estas grandes empresas que le gustan a todas las personas. Creo que el problema es que ahora se quiere utilizar este tipo de modelos para solucionar problemas \"sencillos\" sin tener en cuenta que existen alternativas en Machine Learning que requieren menor procesamiento computacional y menos cantidad de datos, a diferencia de los modelos de Redes Neuronales."
   ]
  },
  {
   "cell_type": "markdown",
   "id": "accessible-foster",
   "metadata": {},
   "source": [
    "73. Las neuronas artificiales son funciones en las cuales existe una función de entrada, una función de activación, y una función de salida. De esta forma, los datos de entrada tienen un peso asignado. Así, la función de entrada calcula la entrada a la neurona, la función de activación es un conjunto de funciones que procesan la información dentro de la neurona, y la función de salida da el resultado."
   ]
  },
  {
   "cell_type": "markdown",
   "id": "alert-briefing",
   "metadata": {},
   "source": [
    "74. La estructura de las redes neuronales constan de distintas capas. La primera capa es la capa de entrada que recibe la información del exterior. Posteriormente viene una o mas capas ocultas al interior de la red que no tienen conexión con el exterior y procesan la información, y finalmente la capa de salida transfiere la información de la red hacia el exterior mostrando el resultado."
   ]
  },
  {
   "cell_type": "markdown",
   "id": "strategic-chemical",
   "metadata": {},
   "source": [
    "76. La función de costo mide la discrepancia entre la salida del sistema y la salida producida por la máquina de aprendizaje."
   ]
  },
  {
   "cell_type": "markdown",
   "id": "upper-sensitivity",
   "metadata": {},
   "source": [
    "77. Los hiperparámetros son información de alto nivel del modelo, que pueden ser ajustados antes de entrenar el modelo."
   ]
  },
  {
   "cell_type": "markdown",
   "id": "measured-drama",
   "metadata": {},
   "source": [
    "84. Un perceptron multicapa es una red neuronal para resolver problemas no lineales. Transforma las variables de entrada con funciones no lineales antes de formar la combinación lineal. Dentro de las capas ocultas se hace el procesamiento para la transofmración de los datos, y cada capa tiene un número diferente de neuronas"
   ]
  },
  {
   "cell_type": "markdown",
   "id": "waiting-encoding",
   "metadata": {},
   "source": [
    "94. Un autoenconder es una red neuronal no supervisada que tiene como objetivo aprender una representación comprimida y eficiente de los datos. Consiste en dos capas, la capa oculta y la capa de salida, sin contar la capa de entrada. En esta red neuronal el número de neuronas de la capa de entrada es el mismo número de neuronas que la capa de salida, y la capa oculta tiene un número menor que estas otras dos capas. Esto se da dee sta menra porque la idea es restringir la red para forzarla a aprender una nueva representación de los datos. Así el modelo es entrenado para predecir su propia entrada."
   ]
  },
  {
   "cell_type": "markdown",
   "id": "genuine-kazakhstan",
   "metadata": {},
   "source": [
    "95. Las máquinas de Boltzmann son redes neuronales totalmente interconectadas. Es decir, son redes neuronales con conexiones bidireccionales que al igual que los autoencoders tienen como objetivo aprender una nueva representación de un conjunto de datos. Las Máquinas de Boltzmann restringidas tienen dos capas, donde la capa de entrada es la misma de salida, y tienen una capa oculta."
   ]
  }
 ],
 "metadata": {
  "kernelspec": {
   "display_name": "Python 3",
   "language": "python",
   "name": "python3"
  },
  "language_info": {
   "codemirror_mode": {
    "name": "ipython",
    "version": 3
   },
   "file_extension": ".py",
   "mimetype": "text/x-python",
   "name": "python",
   "nbconvert_exporter": "python",
   "pygments_lexer": "ipython3",
   "version": "3.8.5"
  }
 },
 "nbformat": 4,
 "nbformat_minor": 5
}
