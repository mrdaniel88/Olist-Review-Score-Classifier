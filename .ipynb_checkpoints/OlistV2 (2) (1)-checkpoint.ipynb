{
 "cells": [
  {
   "cell_type": "markdown",
   "metadata": {
    "id": "ZwqcWZ447h-1"
   },
   "source": [
    "Descripción \n",
    "# Conjunto de datos públicos brasileños de comercio electrónico de Olist\n",
    "***\n",
    "¡Bienvenida! Este es un conjunto de datos públicos de comercio electrónico brasileño de pedidos realizados en Olist Store. El conjunto de datos tiene información de 100k pedidos de 2016 a 2018 realizados en múltiples mercados en Brasil. Sus características permiten ver un pedido desde múltiples dimensiones: desde el estado del pedido, el precio, el pago y el desempeño del flete hasta la ubicación del cliente, los atributos del producto y finalmente las reseñas escritas por los clientes. También publicamos un conjunto de datos de geolocalización que relaciona los códigos postales brasileños con las coordenadas lat / lng.\n",
    "\n",
    "Estos son datos comerciales reales, se han anonimizado y las referencias a las empresas y socios en el texto de revisión se han reemplazado con los nombres de las grandes casas de Game of Thrones.\n",
    "\n",
    "# Join it With the Marketing Funnel by Olist\n",
    "También hemos lanzado un conjunto de datos de embudo de marketing https://www.kaggle.com/olistbr/marketing-funnel-olist/home ¡Puede unir ambos conjuntos de datos y ver un pedido desde la perspectiva de marketing ahora!\n",
    "\n",
    "Las instrucciones para unirse están disponibles en este Kernel https://www.kaggle.com/andresionek/joining-marketing-funnel-with-brazilian-e-commerce.\n",
    "\n",
    "# Contexto\n",
    "Este conjunto de datos fue proporcionado generosamente por Olist, la tienda por departamentos más grande de los mercados brasileños. Olist conecta pequeñas empresas de todo Brasil con canales sin problemas y con un solo contrato. Esos comerciantes pueden vender sus productos a través de Olist Store y enviarlos directamente a los clientes mediante los socios logísticos de Olist. Vea más en nuestro sitio web: www.olist.com\n",
    "\n",
    "Después de que un cliente compra el producto en Olist Store, un vendedor recibe una notificación para cumplir con ese pedido. Una vez que el cliente recibe el producto, o vence la fecha estimada de entrega, el cliente recibe una encuesta de satisfacción por correo electrónico donde puede dar una nota por la experiencia de compra y anotar algunos comentarios.\n",
    "\n",
    "# Atención\n",
    "1. Un pedido puede tener varios artículos.\n",
    "2. Cada artículo puede ser realizado por un vendedor distinto.\n",
    "3. Todo el texto que identifica tiendas y socios fue reemplazado por los nombres de las grandes casas de Game of Thrones.\n",
    "\n",
    "\n",
    "# Ejemplo de una lista de productos en un mercado"
   ]
  },
  {
   "cell_type": "markdown",
   "metadata": {
    "id": "UtxvCNnc7uFd"
   },
   "source": [
    "![image](https://i.imgur.com/JuJMns1.png)"
   ]
  },
  {
   "cell_type": "markdown",
   "metadata": {
    "id": "-UXT38eO9zr0"
   },
   "source": [
    "# Data Schema\n",
    "Los datos se dividen en varios conjuntos de datos para una mejor comprensión y organización. Consulte el siguiente esquema de datos cuando trabaje con él:"
   ]
  },
  {
   "cell_type": "markdown",
   "metadata": {
    "id": "iOVjjxBu99dr"
   },
   "source": [
    "![image](https://i.imgur.com/HRhd2Y0.png)\n"
   ]
  },
  {
   "cell_type": "markdown",
   "metadata": {
    "id": "RHC4_Apq_lT3"
   },
   "source": [
    "# Classified Dataset\n",
    "Anteriormente habíamos publicado un conjunto de datos clasificados, pero lo eliminamos en la Versión 6. Tenemos la intención de publicarlo nuevamente como un nuevo conjunto de datos con un nuevo esquema de datos. Si bien no lo terminamos, puede usar el conjunto de datos clasificados disponible en la Versión 5 o anterior.\n",
    "\n",
    "# Inspiration\n",
    "Aquí hay algo de inspiración para los posibles resultados de este conjunto de datos.\n",
    "\n",
    "# NLP:\n",
    "\n",
    "Este conjunto de datos ofrece un entorno supremo para analizar el texto de las reseñas a través de sus múltiples dimensiones.\n",
    "\n",
    "# Clustering:\n",
    "\n",
    "Algunos clientes no escribieron una reseña. Pero, ¿por qué están felices o enojados?\n",
    "\n",
    "# Sales Prediction:\n",
    "\n",
    "Con la información de la fecha de compra, podrá predecir las ventas futuras.\n",
    "\n",
    "# Delivery Performance:\n",
    "\n",
    "También podrá trabajar en el desempeño de la entrega y encontrar formas de optimizar los tiempos de entrega.\n",
    "\n",
    "# Product Quality:\n",
    "\n",
    "Disfrute descubriendo las categorías de productos que son más propensas a la insatisfacción del cliente.\n",
    "\n",
    "# Feature Engineering:\n",
    "\n",
    "Cree características a partir de este rico conjunto de datos o adjúntele información pública externa.\n",
    "\n",
    "# Acknowledgements\n",
    "\n",
    "Gracias a Olist por publicar este conjunto de datos."
   ]
  },
  {
   "cell_type": "markdown",
   "metadata": {
    "id": "rVojHYiQqOKf"
   },
   "source": [
    "# Tareas\n",
    "\n",
    "Realizar\n",
    "* Código mantenible y código limpio\n",
    "* Analisis Exploratorio de Datos\n",
    "* Interpretación del problema\n",
    "* Ingeniería de características\n",
    "* Series temporales\n",
    "* Modelos\n",
    "* Predicción de ventas\n",
    "* Optimización entregas pedidos\n",
    "* Clasificación\n",
    "* Procesamiento de lenguaje Natural\n",
    "* Dedicación\n",
    "* Exposición\n",
    "* Presentación y claridad\n",
    "\n",
    "# Entregables\n",
    "\n",
    "Elegir la herramienta con la que se sientan mejor\n",
    "\n",
    "* Word\n",
    "* Power Point\n",
    "* Excel\n",
    "* Kaggle\n",
    "* Colab\n",
    "* Streamlit, bokeh, dash, heroku\n",
    "* Spyder\n",
    "* Jupyter Lab"
   ]
  },
  {
   "cell_type": "markdown",
   "metadata": {
    "id": "_X7CLfUHqFrn"
   },
   "source": []
  }
 ],
 "metadata": {
  "colab": {
   "name": "Olist.ipynb",
   "provenance": []
  },
  "kernelspec": {
   "display_name": "Python 3",
   "language": "python",
   "name": "python3"
  },
  "language_info": {
   "codemirror_mode": {
    "name": "ipython",
    "version": 3
   },
   "file_extension": ".py",
   "mimetype": "text/x-python",
   "name": "python",
   "nbconvert_exporter": "python",
   "pygments_lexer": "ipython3",
   "version": "3.8.5"
  }
 },
 "nbformat": 4,
 "nbformat_minor": 4
}
